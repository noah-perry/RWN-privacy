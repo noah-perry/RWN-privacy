{
 "cells": [
  {
   "cell_type": "markdown",
   "id": "c9b3ebda",
   "metadata": {},
   "source": [
    "# RWN Experiments\n",
    "\n",
    "**Author:** Noah Perry\n",
    "\n",
    "**Overview:** This notebook contains empirical experiments illustrating the performance of RWN using the `pef` dataset from the `regtools` R package\n",
    "\n",
    "**Data description:** The `pef` data contains salary information and demographic characteristics of programmers and engineers in Silicon Valley taken from the 2000 Census.\n",
    "\n",
    "Occupation categories: https://usa.ipums.org/usa/volii/occ2000.shtml\n",
    "\n",
    "Link to documentation for `regtools` (version 1.7.0): https://cran.r-project.org/web/packages/regtools/regtools.pdf\n",
    "\n",
    "**Method:** RWN is a statistical disclosure control (SDC) method created by Norm Matloff and refined in collaboration with Noah Perry\n",
    "\n",
    "arXiv preprint: https://arxiv.org/abs/2210.06687 (publication in progress)\n",
    "\n",
    "**Perturbed data and RWN tuning parameters:** To illustrate how RWN works, we create numerous perturbed datasets using different combinations of RWN's tuning parameters ($\\epsilon$, $k$, $q$).\n",
    "- $k$ is varied: 5, 10, 25, 50\n",
    "- $\\epsilon = 0$ and $q = 0.5$ for all perturbed datasets\n",
    "- For each combination of tuning parameters, one perturbed dataset in created.\n",
    "\n",
    "**Experiment:**\n",
    "- Total correlation (aka multiinformation)"
   ]
  },
  {
   "cell_type": "markdown",
   "id": "a7217bf2",
   "metadata": {},
   "source": [
    "### Setup"
   ]
  },
  {
   "cell_type": "code",
   "execution_count": 1,
   "id": "9e9a0c74",
   "metadata": {},
   "outputs": [],
   "source": [
    "# Package installation (for running notebook for first time)\n",
    "#install.packages(\"gtools\")\n",
    "#install.packages(\"infotheo\")\n",
    "#install.packages(\"pdist\")\n",
    "#install.packages(\"regtools\")"
   ]
  },
  {
   "cell_type": "code",
   "execution_count": 2,
   "id": "91389ae7",
   "metadata": {},
   "outputs": [
    {
     "name": "stderr",
     "output_type": "stream",
     "text": [
      "Loading required package: FNN\n",
      "\n",
      "\n",
      "Attaching package: 'FNN'\n",
      "\n",
      "\n",
      "The following object is masked from 'package:infotheo':\n",
      "\n",
      "    entropy\n",
      "\n",
      "\n",
      "\n",
      "\n",
      "\n",
      "\n",
      "\n",
      "*********************\n",
      "\n",
      "\n",
      "\n",
      "Latest version of regtools at GitHub.com/matloff\n",
      "\n",
      "\n",
      "Type ?regtools to see function list by category\n",
      "\n",
      "\n",
      "\n",
      "\n",
      "\n",
      "\n",
      "Attaching package: 'regtools'\n",
      "\n",
      "\n",
      "The following object is masked from 'package:infotheo':\n",
      "\n",
      "    discretize\n",
      "\n",
      "\n"
     ]
    }
   ],
   "source": [
    "rm(list = ls())\n",
    "\n",
    "# Packages\n",
    "library(gtools)\n",
    "library(infotheo)\n",
    "library(regtools)\n",
    "    # pdist package is loaded in RWN.R code\n",
    "\n",
    "# Filepath\n",
    "fp <- # [UPDATE WITH FILEPATH TO MAIN RWN REPO]\n",
    "\n",
    "# RWN code\n",
    "source(paste0(fp,\"R/RWN.R\"))\n",
    "\n",
    "# Set seed for reproducibility\n",
    "set.seed(1)\n",
    "\n",
    "# Define e() function\n",
    "e <- function(x) {\n",
    "  eval(parse(text = x))\n",
    "}"
   ]
  },
  {
   "cell_type": "markdown",
   "id": "92e7354a",
   "metadata": {},
   "source": [
    "### Import Data"
   ]
  },
  {
   "cell_type": "code",
   "execution_count": 3,
   "id": "1fdab12b",
   "metadata": {},
   "outputs": [],
   "source": [
    "data(pef)"
   ]
  },
  {
   "cell_type": "code",
   "execution_count": 4,
   "id": "da3657a4",
   "metadata": {},
   "outputs": [
    {
     "name": "stdout",
     "output_type": "stream",
     "text": [
      "'data.frame':\t20090 obs. of  6 variables:\n",
      " $ age    : num  50.3 41.1 24.7 50.2 51.2 ...\n",
      " $ educ   : Factor w/ 3 levels \"14\",\"16\",\"zzzOther\": 3 3 3 3 3 3 3 3 1 3 ...\n",
      " $ occ    : Factor w/ 6 levels \"100\",\"101\",\"102\",..: 3 2 3 1 1 1 2 1 1 1 ...\n",
      " $ sex    : Factor w/ 2 levels \"1\",\"2\": 2 1 2 1 2 1 2 1 2 1 ...\n",
      " $ wageinc: int  75000 12300 15400 0 160 0 0 32000 39000 20000 ...\n",
      " $ wkswrkd: int  52 20 52 52 1 0 0 52 48 52 ...\n"
     ]
    }
   ],
   "source": [
    "str(pef)"
   ]
  },
  {
   "cell_type": "markdown",
   "id": "c5b39dcc",
   "metadata": {},
   "source": [
    "### Make Perturbed Datasets using RWN"
   ]
  },
  {
   "cell_type": "code",
   "execution_count": 5,
   "id": "88606951",
   "metadata": {},
   "outputs": [
    {
     "name": "stdout",
     "output_type": "stream",
     "text": [
      "[1] \"k=5, time=4.02318626642227\"\n",
      "[1] \"k=10, time=3.33308466672897\"\n",
      "[1] \"k=25, time=3.41934419870377\"\n",
      "[1] \"k=50, time=3.34310403267543\"\n"
     ]
    }
   ],
   "source": [
    "k_vec <- c(5,10,25,50)\n",
    "\n",
    "for(i in 1:length(k_vec)){\n",
    "   start_time <- Sys.time()\n",
    "   assign(paste0(\"pef_pert_eps0_k\", k_vec[i]), rwn1(pef, eps = 0, k = k_vec[i], q = 0.5))\n",
    "   end_time <- Sys.time()\n",
    "   time_dif <- end_time - start_time\n",
    "   print(paste0(\"k=\", k_vec[i], \", time=\", time_dif))\n",
    "}"
   ]
  },
  {
   "cell_type": "markdown",
   "id": "90c7bf9f",
   "metadata": {},
   "source": [
    "### Total Correlation / Multiinformation"
   ]
  },
  {
   "cell_type": "code",
   "execution_count": 6,
   "id": "15e3b267",
   "metadata": {},
   "outputs": [],
   "source": [
    "calc_multiinformation_pef <- function(data, disc_method){\n",
    "    data_cat <- data[,c(\"educ\", \"occ\", \"sex\")]\n",
    "    data_num <- data[,c(\"age\", \"wageinc\", \"wkswrkd\")]\n",
    "    data_numdisc <- infotheo::discretize(data_num, disc = disc_method)\n",
    "    data_disc <- cbind(data_cat, data_numdisc)\n",
    "    multiinfo <- multiinformation(data_disc)\n",
    "    return(multiinfo)\n",
    "}"
   ]
  },
  {
   "cell_type": "code",
   "execution_count": 8,
   "id": "deaceaaa",
   "metadata": {},
   "outputs": [
    {
     "data": {
      "text/html": [
       "1.13300609121878"
      ],
      "text/latex": [
       "1.13300609121878"
      ],
      "text/markdown": [
       "1.13300609121878"
      ],
      "text/plain": [
       "[1] 1.133006"
      ]
     },
     "metadata": {},
     "output_type": "display_data"
    },
    {
     "data": {
      "text/html": [
       "1.18140492205797"
      ],
      "text/latex": [
       "1.18140492205797"
      ],
      "text/markdown": [
       "1.18140492205797"
      ],
      "text/plain": [
       "[1] 1.181405"
      ]
     },
     "metadata": {},
     "output_type": "display_data"
    },
    {
     "data": {
      "text/html": [
       "1.17586987905451"
      ],
      "text/latex": [
       "1.17586987905451"
      ],
      "text/markdown": [
       "1.17586987905451"
      ],
      "text/plain": [
       "[1] 1.17587"
      ]
     },
     "metadata": {},
     "output_type": "display_data"
    },
    {
     "data": {
      "text/html": [
       "1.14575890951585"
      ],
      "text/latex": [
       "1.14575890951585"
      ],
      "text/markdown": [
       "1.14575890951585"
      ],
      "text/plain": [
       "[1] 1.145759"
      ]
     },
     "metadata": {},
     "output_type": "display_data"
    },
    {
     "data": {
      "text/html": [
       "1.13251723060556"
      ],
      "text/latex": [
       "1.13251723060556"
      ],
      "text/markdown": [
       "1.13251723060556"
      ],
      "text/plain": [
       "[1] 1.132517"
      ]
     },
     "metadata": {},
     "output_type": "display_data"
    }
   ],
   "source": [
    "disc_method = \"equalwidth\"\n",
    "\n",
    "calc_multiinformation_pef(pef, disc_method = disc_method)\n",
    "calc_multiinformation_pef(pef_pert_eps0_k5$zperturb, disc_method = disc_method)\n",
    "calc_multiinformation_pef(pef_pert_eps0_k10$zperturb, disc_method = disc_method)\n",
    "calc_multiinformation_pef(pef_pert_eps0_k25$zperturb, disc_method = disc_method)\n",
    "calc_multiinformation_pef(pef_pert_eps0_k50$zperturb, disc_method = disc_method)"
   ]
  },
  {
   "cell_type": "code",
   "execution_count": 9,
   "id": "52f23c1b",
   "metadata": {},
   "outputs": [
    {
     "data": {
      "text/plain": [
       "R version 4.1.3 (2022-03-10)\n",
       "Platform: x86_64-w64-mingw32/x64 (64-bit)\n",
       "Running under: Windows 10 x64 (build 19045)\n",
       "\n",
       "Matrix products: default\n",
       "\n",
       "locale:\n",
       "[1] LC_COLLATE=English_United States.1252 \n",
       "[2] LC_CTYPE=English_United States.1252   \n",
       "[3] LC_MONETARY=English_United States.1252\n",
       "[4] LC_NUMERIC=C                          \n",
       "[5] LC_TIME=English_United States.1252    \n",
       "\n",
       "attached base packages:\n",
       "[1] parallel  stats     graphics  grDevices utils     datasets  methods  \n",
       "[8] base     \n",
       "\n",
       "other attached packages:\n",
       "[1] pdist_1.2.1      regtools_1.7.0   FNN_1.1.3.2      infotheo_1.2.0.1\n",
       "[5] gtools_3.9.4    \n",
       "\n",
       "loaded via a namespace (and not attached):\n",
       " [1] Rcpp_1.0.10         pillar_1.9.0        compiler_4.1.3     \n",
       " [4] base64enc_0.1-3     iterators_1.0.14    tools_4.1.3        \n",
       " [7] digest_0.6.31       uuid_1.1-0          jsonlite_1.8.4     \n",
       "[10] evaluate_0.21       lifecycle_1.0.3     lattice_0.21-8     \n",
       "[13] rlang_1.1.0         Matrix_1.5-4        foreach_1.5.2      \n",
       "[16] mlapi_0.1.1         IRdisplay_1.1       cli_3.6.1          \n",
       "[19] RhpcBLASctl_0.23-42 IRkernel_1.3.2      mvtnorm_1.1-3      \n",
       "[22] fastmap_1.1.1       repr_1.1.6          text2vec_0.6.3     \n",
       "[25] vctrs_0.6.1         glmnet_4.1-7        grid_4.1.3         \n",
       "[28] data.table_1.14.8   glue_1.6.2          rje_1.12.1         \n",
       "[31] R6_2.5.1            fansi_1.0.4         survival_3.5-5     \n",
       "[34] carData_3.0-5       pbdZMQ_0.3-9        car_3.1-2          \n",
       "[37] lgr_0.4.4           codetools_0.2-19    htmltools_0.5.5    \n",
       "[40] MASS_7.3-58.3       splines_4.1.3       abind_1.4-5        \n",
       "[43] float_0.3-1         rsparse_0.5.0       shape_1.4.6        \n",
       "[46] sandwich_3.0-2      utf8_1.2.3          crayon_1.5.2       \n",
       "[49] zoo_1.8-12         "
      ]
     },
     "metadata": {},
     "output_type": "display_data"
    }
   ],
   "source": [
    "sessionInfo()"
   ]
  }
 ],
 "metadata": {
  "kernelspec": {
   "display_name": "R",
   "language": "R",
   "name": "ir"
  },
  "language_info": {
   "codemirror_mode": "r",
   "file_extension": ".r",
   "mimetype": "text/x-r-source",
   "name": "R",
   "pygments_lexer": "r",
   "version": "4.1.3"
  }
 },
 "nbformat": 4,
 "nbformat_minor": 5
}
